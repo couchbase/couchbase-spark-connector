{
 "cells": [
  {
   "cell_type": "code",
   "execution_count": 1,
   "id": "initial_id",
   "metadata": {
    "jupyter": {
     "is_executing": true
    }
   },
   "outputs": [
    {
     "name": "stderr",
     "output_type": "stream",
     "text": [
      "Python-dotenv could not parse statement starting at line 5\n",
      "24/08/08 11:18:33 WARN Utils: Your hostname, LAPTOP-TM7G463M resolves to a loopback address: 127.0.1.1; using 192.168.1.120 instead (on interface wifi0)\n",
      "24/08/08 11:18:33 WARN Utils: Set SPARK_LOCAL_IP if you need to bind to another address\n",
      "24/08/08 11:18:34 WARN NativeCodeLoader: Unable to load native-hadoop library for your platform... using builtin-java classes where applicable\n",
      "Setting default log level to \"WARN\".\n",
      "To adjust logging level use sc.setLogLevel(newLevel). For SparkR, use setLogLevel(newLevel).\n"
     ]
    }
   ],
   "source": [
    "from pyspark.sql import SparkSession\n",
    "from dotenv import load_dotenv\n",
    "import os\n",
    "load_dotenv()\n",
    "\n",
    "spark = SparkSession.builder \\\n",
    "    .config(\"spark.jars\", os.getenv('COUCHBASE_SPARK_JAR')) \\\n",
    "    .config(\"spark.couchbase.connectionString\", os.getenv('COUCHBASE_CONNECTION_STRING')) \\\n",
    "    .config(\"spark.couchbase.username\", os.getenv('COUCHBASE_USERNAME')) \\\n",
    "    .config(\"spark.couchbase.password\", os.getenv('COUCHBASE_PASSWORD')) \\\n",
    "    .config(\"spark.ssl.insecure\", os.getenv('COUCHBASE_TLS_INSECURE')) \\\n",
    "    .getOrCreate()\n"
   ]
  },
  {
   "cell_type": "code",
   "execution_count": null,
   "id": "8ccd73a17843bfbd",
   "metadata": {},
   "outputs": [],
   "source": [
    "# Load a DataFrame from Couchbase\n",
    "df = (spark.read.format(\"couchbase.query\")\n",
    "      .option(\"bucket\", \"travel-sample\")\n",
    "      .option(\"scope\", \"inventory\")\n",
    "      .option(\"collection\", \"airline\")\n",
    "      .load())\n",
    "df.printSchema()\n",
    "df.show()\n",
    "spark.stop()"
   ]
  }
 ],
 "metadata": {
  "kernelspec": {
   "display_name": "Python 3 (ipykernel)",
   "language": "python",
   "name": "python3"
  },
  "language_info": {
   "codemirror_mode": {
    "name": "ipython",
    "version": 3
   },
   "file_extension": ".py",
   "mimetype": "text/x-python",
   "name": "python",
   "nbconvert_exporter": "python",
   "pygments_lexer": "ipython3",
   "version": "3.10.12"
  }
 },
 "nbformat": 4,
 "nbformat_minor": 5
}
