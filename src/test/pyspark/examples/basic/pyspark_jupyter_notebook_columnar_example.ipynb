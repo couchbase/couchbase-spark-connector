{
 "cells": [
  {
   "metadata": {},
   "cell_type": "markdown",
   "source": [
    "# Couchbase Spark Connector Jupyter Notebook Example - Capella Columnar\n",
    "This minimal example shows how simple it is to connect to a Couchbase Capella Columnar cluster using the Couchbase Spark Connector, in a Jupyter notebook.\n",
    "\n",
    "Go to src/test/pyspark/README.md for instructions on how to run this notebook. "
   ],
   "id": "9d2ef5e987c245b5"
  },
  {
   "metadata": {},
   "cell_type": "code",
   "source": [
    "from pyspark.sql import SparkSession\n",
    "from dotenv import load_dotenv\n",
    "import os\n",
    "load_dotenv()\n",
    "\n",
    "spark = SparkSession.builder \\\n",
    "    .master(os.getenv(\"SPARK_MASTER_URL\", \"local[*]\")) \\\n",
    "    .config(\"spark.jars\", os.getenv('COUCHBASE_SPARK_JAR')) \\\n",
    "    .config(\"spark.couchbase.connectionString\", os.getenv('COUCHBASE_CONNECTION_STRING')) \\\n",
    "    .config(\"spark.couchbase.username\", os.getenv('COUCHBASE_USERNAME')) \\\n",
    "    .config(\"spark.couchbase.password\", os.getenv('COUCHBASE_PASSWORD')) \\\n",
    "    .getOrCreate()\n"
   ],
   "id": "initial_id",
   "outputs": [],
   "execution_count": null
  },
  {
   "cell_type": "code",
   "id": "8ccd73a17843bfbd",
   "metadata": {},
   "source": [
    "# Load a DataFrame from Couchbase\n",
    "df = (spark.read.format(\"couchbase.columnar\")\n",
    "      .option(\"database\", \"travel-sample\")\n",
    "      .option(\"scope\", \"inventory\")\n",
    "      .option(\"collection\", \"airline\")\n",
    "      .load())\n",
    "df.printSchema()\n",
    "df.show()\n",
    "spark.stop()"
   ],
   "outputs": [],
   "execution_count": null
  }
 ],
 "metadata": {
  "kernelspec": {
   "display_name": "Python 3 (ipykernel)",
   "language": "python",
   "name": "python3"
  },
  "language_info": {
   "codemirror_mode": {
    "name": "ipython",
    "version": 3
   },
   "file_extension": ".py",
   "mimetype": "text/x-python",
   "name": "python",
   "nbconvert_exporter": "python",
   "pygments_lexer": "ipython3",
   "version": "3.10.12"
  }
 },
 "nbformat": 4,
 "nbformat_minor": 5
}
